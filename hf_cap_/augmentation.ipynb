{
 "cells": [
  {
   "cell_type": "code",
   "execution_count": 1,
   "metadata": {},
   "outputs": [],
   "source": [
    "import albumentations as A\n",
    "from glob import glob\n",
    "import os\n",
    "import cv2\n",
    "\n",
    "\n"
   ]
  },
  {
   "cell_type": "code",
   "execution_count": 2,
   "metadata": {},
   "outputs": [
    {
     "name": "stdout",
     "output_type": "stream",
     "text": [
      "['C:/Users/USER/Desktop/hf_cap/valid/img/10000075.jpg', 'C:/Users/USER/Desktop/hf_cap/valid/img/10007855.jpg', 'C:/Users/USER/Desktop/hf_cap/valid/img/10007862.jpg', 'C:/Users/USER/Desktop/hf_cap/valid/img/10007867.jpg', 'C:/Users/USER/Desktop/hf_cap/valid/img/10007892.jpg', 'C:/Users/USER/Desktop/hf_cap/valid/img/10007904.jpg', 'C:/Users/USER/Desktop/hf_cap/valid/img/10007905.jpg', 'C:/Users/USER/Desktop/hf_cap/valid/img/10007906.jpg', 'C:/Users/USER/Desktop/hf_cap/valid/img/10007909.jpg', 'C:/Users/USER/Desktop/hf_cap/valid/img/10007919.jpg', 'C:/Users/USER/Desktop/hf_cap/valid/img/10007936.jpg', 'C:/Users/USER/Desktop/hf_cap/valid/img/10007943.jpg', 'C:/Users/USER/Desktop/hf_cap/valid/img/10007955.jpg', 'C:/Users/USER/Desktop/hf_cap/valid/img/10007958.jpg', 'C:/Users/USER/Desktop/hf_cap/valid/img/10007959.jpg', 'C:/Users/USER/Desktop/hf_cap/valid/img/10007960.jpg', 'C:/Users/USER/Desktop/hf_cap/valid/img/10007969.jpg', 'C:/Users/USER/Desktop/hf_cap/valid/img/10007977.jpg', 'C:/Users/USER/Desktop/hf_cap/valid/img/10007978.jpg', 'C:/Users/USER/Desktop/hf_cap/valid/img/10007980.jpg', 'C:/Users/USER/Desktop/hf_cap/valid/img/10007984.jpg', 'C:/Users/USER/Desktop/hf_cap/valid/img/10007987.jpg', 'C:/Users/USER/Desktop/hf_cap/valid/img/10007990.jpg', 'C:/Users/USER/Desktop/hf_cap/valid/img/10008004.jpg', 'C:/Users/USER/Desktop/hf_cap/valid/img/10008005.jpg', 'C:/Users/USER/Desktop/hf_cap/valid/img/10008011.jpg', 'C:/Users/USER/Desktop/hf_cap/valid/img/10008026.jpg', 'C:/Users/USER/Desktop/hf_cap/valid/img/10008027.jpg', 'C:/Users/USER/Desktop/hf_cap/valid/img/10008040.jpg', 'C:/Users/USER/Desktop/hf_cap/valid/img/10008042.jpg', 'C:/Users/USER/Desktop/hf_cap/valid/img/10008064.jpg', 'C:/Users/USER/Desktop/hf_cap/valid/img/10008068.jpg', 'C:/Users/USER/Desktop/hf_cap/valid/img/10008101.jpg', 'C:/Users/USER/Desktop/hf_cap/valid/img/10008118.jpg', 'C:/Users/USER/Desktop/hf_cap/valid/img/10008125.jpg', 'C:/Users/USER/Desktop/hf_cap/valid/img/10008156.jpg', 'C:/Users/USER/Desktop/hf_cap/valid/img/10008168.jpg', 'C:/Users/USER/Desktop/hf_cap/valid/img/10008170.jpg', 'C:/Users/USER/Desktop/hf_cap/valid/img/10008176.jpg', 'C:/Users/USER/Desktop/hf_cap/valid/img/10008186.jpg', 'C:/Users/USER/Desktop/hf_cap/valid/img/10008187.jpg', 'C:/Users/USER/Desktop/hf_cap/valid/img/10008188.jpg', 'C:/Users/USER/Desktop/hf_cap/valid/img/10008189.jpg', 'C:/Users/USER/Desktop/hf_cap/valid/img/10008190.jpg', 'C:/Users/USER/Desktop/hf_cap/valid/img/10008191.jpg', 'C:/Users/USER/Desktop/hf_cap/valid/img/10008193.jpg', 'C:/Users/USER/Desktop/hf_cap/valid/img/10008213.jpg', 'C:/Users/USER/Desktop/hf_cap/valid/img/10008223.jpg', 'C:/Users/USER/Desktop/hf_cap/valid/img/10008228.jpg', 'C:/Users/USER/Desktop/hf_cap/valid/img/10008239.jpg', 'C:/Users/USER/Desktop/hf_cap/valid/img/10008244.jpg', 'C:/Users/USER/Desktop/hf_cap/valid/img/10008258.jpg', 'C:/Users/USER/Desktop/hf_cap/valid/img/10008260.jpg', 'C:/Users/USER/Desktop/hf_cap/valid/img/10008282.jpg', 'C:/Users/USER/Desktop/hf_cap/valid/img/10008293.jpg', 'C:/Users/USER/Desktop/hf_cap/valid/img/10008298.jpg', 'C:/Users/USER/Desktop/hf_cap/valid/img/10008299.jpg', 'C:/Users/USER/Desktop/hf_cap/valid/img/10008305.jpg', 'C:/Users/USER/Desktop/hf_cap/valid/img/10008310.jpg', 'C:/Users/USER/Desktop/hf_cap/valid/img/10008320.jpg', 'C:/Users/USER/Desktop/hf_cap/valid/img/10008322.jpg', 'C:/Users/USER/Desktop/hf_cap/valid/img/10008326.jpg', 'C:/Users/USER/Desktop/hf_cap/valid/img/10008333.jpg', 'C:/Users/USER/Desktop/hf_cap/valid/img/10008340.jpg', 'C:/Users/USER/Desktop/hf_cap/valid/img/10008346.jpg', 'C:/Users/USER/Desktop/hf_cap/valid/img/10008357.jpg', 'C:/Users/USER/Desktop/hf_cap/valid/img/10008358.jpg', 'C:/Users/USER/Desktop/hf_cap/valid/img/10008359.jpg', 'C:/Users/USER/Desktop/hf_cap/valid/img/10008361.jpg', 'C:/Users/USER/Desktop/hf_cap/valid/img/10008367.jpg', 'C:/Users/USER/Desktop/hf_cap/valid/img/10008379.jpg', 'C:/Users/USER/Desktop/hf_cap/valid/img/10008387.jpg', 'C:/Users/USER/Desktop/hf_cap/valid/img/10008388.jpg', 'C:/Users/USER/Desktop/hf_cap/valid/img/10008389.jpg', 'C:/Users/USER/Desktop/hf_cap/valid/img/10008396.jpg', 'C:/Users/USER/Desktop/hf_cap/valid/img/10008401.jpg', 'C:/Users/USER/Desktop/hf_cap/valid/img/10008440.jpg', 'C:/Users/USER/Desktop/hf_cap/valid/img/10008443.jpg', 'C:/Users/USER/Desktop/hf_cap/valid/img/10008462.jpg', 'C:/Users/USER/Desktop/hf_cap/valid/img/10008465.jpg', 'C:/Users/USER/Desktop/hf_cap/valid/img/10008478.jpg', 'C:/Users/USER/Desktop/hf_cap/valid/img/10008499.jpg', 'C:/Users/USER/Desktop/hf_cap/valid/img/10008513.jpg', 'C:/Users/USER/Desktop/hf_cap/valid/img/10008517.jpg', 'C:/Users/USER/Desktop/hf_cap/valid/img/10008521.jpg', 'C:/Users/USER/Desktop/hf_cap/valid/img/10008524.jpg', 'C:/Users/USER/Desktop/hf_cap/valid/img/10008535.jpg', 'C:/Users/USER/Desktop/hf_cap/valid/img/10008536.jpg', 'C:/Users/USER/Desktop/hf_cap/valid/img/10008544.jpg', 'C:/Users/USER/Desktop/hf_cap/valid/img/10008561.jpg', 'C:/Users/USER/Desktop/hf_cap/valid/img/10008566.jpg', 'C:/Users/USER/Desktop/hf_cap/valid/img/10008577.jpg', 'C:/Users/USER/Desktop/hf_cap/valid/img/10008610.jpg', 'C:/Users/USER/Desktop/hf_cap/valid/img/10008612.jpg', 'C:/Users/USER/Desktop/hf_cap/valid/img/10008621.jpg', 'C:/Users/USER/Desktop/hf_cap/valid/img/10008622.jpg', 'C:/Users/USER/Desktop/hf_cap/valid/img/10008633.jpg', 'C:/Users/USER/Desktop/hf_cap/valid/img/10008652.jpg', 'C:/Users/USER/Desktop/hf_cap/valid/img/10008655.jpg', 'C:/Users/USER/Desktop/hf_cap/valid/img/10008659.jpg', 'C:/Users/USER/Desktop/hf_cap/valid/img/10008672.jpg', 'C:/Users/USER/Desktop/hf_cap/valid/img/10008674.jpg', 'C:/Users/USER/Desktop/hf_cap/valid/img/10008680.jpg', 'C:/Users/USER/Desktop/hf_cap/valid/img/10008681.jpg', 'C:/Users/USER/Desktop/hf_cap/valid/img/10008690.jpg', 'C:/Users/USER/Desktop/hf_cap/valid/img/10008691.jpg', 'C:/Users/USER/Desktop/hf_cap/valid/img/10008695.jpg', 'C:/Users/USER/Desktop/hf_cap/valid/img/10008703.jpg', 'C:/Users/USER/Desktop/hf_cap/valid/img/10008728.jpg', 'C:/Users/USER/Desktop/hf_cap/valid/img/10008730.jpg', 'C:/Users/USER/Desktop/hf_cap/valid/img/10008739.jpg', 'C:/Users/USER/Desktop/hf_cap/valid/img/10008748.jpg', 'C:/Users/USER/Desktop/hf_cap/valid/img/10008759.jpg', 'C:/Users/USER/Desktop/hf_cap/valid/img/10008761.jpg', 'C:/Users/USER/Desktop/hf_cap/valid/img/10008766.jpg', 'C:/Users/USER/Desktop/hf_cap/valid/img/10008776.jpg', 'C:/Users/USER/Desktop/hf_cap/valid/img/10008780.jpg', 'C:/Users/USER/Desktop/hf_cap/valid/img/10008783.jpg', 'C:/Users/USER/Desktop/hf_cap/valid/img/10008786.jpg', 'C:/Users/USER/Desktop/hf_cap/valid/img/10008794.jpg', 'C:/Users/USER/Desktop/hf_cap/valid/img/10008798.jpg', 'C:/Users/USER/Desktop/hf_cap/valid/img/10008810.jpg', 'C:/Users/USER/Desktop/hf_cap/valid/img/10008836.jpg', 'C:/Users/USER/Desktop/hf_cap/valid/img/10008837.jpg', 'C:/Users/USER/Desktop/hf_cap/valid/img/10008841.jpg', 'C:/Users/USER/Desktop/hf_cap/valid/img/10008850.jpg', 'C:/Users/USER/Desktop/hf_cap/valid/img/10008862.jpg', 'C:/Users/USER/Desktop/hf_cap/valid/img/10008867.jpg', 'C:/Users/USER/Desktop/hf_cap/valid/img/10008877.jpg', 'C:/Users/USER/Desktop/hf_cap/valid/img/10008879.jpg', 'C:/Users/USER/Desktop/hf_cap/valid/img/10008889.jpg', 'C:/Users/USER/Desktop/hf_cap/valid/img/10008890.jpg', 'C:/Users/USER/Desktop/hf_cap/valid/img/10008893.jpg', 'C:/Users/USER/Desktop/hf_cap/valid/img/10008896.jpg', 'C:/Users/USER/Desktop/hf_cap/valid/img/10008899.jpg', 'C:/Users/USER/Desktop/hf_cap/valid/img/10008924.jpg', 'C:/Users/USER/Desktop/hf_cap/valid/img/10008930.jpg', 'C:/Users/USER/Desktop/hf_cap/valid/img/10008936.jpg', 'C:/Users/USER/Desktop/hf_cap/valid/img/10008938.jpg', 'C:/Users/USER/Desktop/hf_cap/valid/img/10008945.jpg', 'C:/Users/USER/Desktop/hf_cap/valid/img/10008952.jpg', 'C:/Users/USER/Desktop/hf_cap/valid/img/10008962.jpg', 'C:/Users/USER/Desktop/hf_cap/valid/img/10008963.jpg', 'C:/Users/USER/Desktop/hf_cap/valid/img/10008971.jpg', 'C:/Users/USER/Desktop/hf_cap/valid/img/10008978.jpg', 'C:/Users/USER/Desktop/hf_cap/valid/img/10008983.jpg', 'C:/Users/USER/Desktop/hf_cap/valid/img/10008994.jpg', 'C:/Users/USER/Desktop/hf_cap/valid/img/10008999.jpg', 'C:/Users/USER/Desktop/hf_cap/valid/img/10009013.jpg', 'C:/Users/USER/Desktop/hf_cap/valid/img/10009015.jpg', 'C:/Users/USER/Desktop/hf_cap/valid/img/10009018.jpg', 'C:/Users/USER/Desktop/hf_cap/valid/img/10009020.jpg', 'C:/Users/USER/Desktop/hf_cap/valid/img/10009029.jpg', 'C:/Users/USER/Desktop/hf_cap/valid/img/10009045.jpg', 'C:/Users/USER/Desktop/hf_cap/valid/img/10009050.jpg', 'C:/Users/USER/Desktop/hf_cap/valid/img/10009068.jpg', 'C:/Users/USER/Desktop/hf_cap/valid/img/10009069.jpg', 'C:/Users/USER/Desktop/hf_cap/valid/img/10009072.jpg', 'C:/Users/USER/Desktop/hf_cap/valid/img/10009079.jpg', 'C:/Users/USER/Desktop/hf_cap/valid/img/10009084.jpg', 'C:/Users/USER/Desktop/hf_cap/valid/img/10009092.jpg', 'C:/Users/USER/Desktop/hf_cap/valid/img/10009097.jpg', 'C:/Users/USER/Desktop/hf_cap/valid/img/10009098.jpg', 'C:/Users/USER/Desktop/hf_cap/valid/img/10009100.jpg']\n"
     ]
    }
   ],
   "source": [
    "\n",
    "path = 'C:/Users/USER/Desktop/hf_cap/valid/img'\n",
    "img_list = glob(path + '/*.jpg')\n",
    "img_list = [img.replace('\\\\', '/') for img in img_list]\n",
    "print(img_list)\n"
   ]
  },
  {
   "cell_type": "code",
   "execution_count": 3,
   "metadata": {},
   "outputs": [],
   "source": [
    "transform = A.Compose(\n",
    "            [\n",
    "            A.Rotate(limit=30, border_mode=cv2.BORDER_CONSTANT, p=0.8),\n",
    "            # A.IAAAffine(shear=15, scale=1.0, mode=\"constant\", p=0.2),\n",
    "            A.RandomBrightnessContrast(contrast_limit=0.5, brightness_limit=0.5, p=0.2),\n",
    "            # A.OneOf([\n",
    "            #     A.GaussNoise(p=0.3),\n",
    "            #     A.ImageCompression(p=0.3),\n",
    "            #     A.RandomGamma(p=0.3),\n",
    "            #     A.Posterize(p=0.3),\n",
    "            #     A.Blur(p=0.3),\n",
    "            # ], p=0.3),\n",
    "            A.OneOf([\n",
    "                A.GaussNoise(p=0.3, var_limit=(10, 50)),\n",
    "                A.ImageCompression(p=0.3),\n",
    "                A.RandomGamma(p=0.3),\n",
    "                A.Posterize(p=0.3),\n",
    "                A.Blur(p=0.3, blur_limit=3),\n",
    "            ], p=0.3),\n",
    "            A.HorizontalFlip(p=0.5),\n",
    "            A.ShiftScaleRotate(shift_limit=0.1, scale_limit=0.1, rotate_limit=0, p=0.2, border_mode=cv2.BORDER_CONSTANT)\n",
    "            ],\n",
    ")"
   ]
  },
  {
   "cell_type": "code",
   "execution_count": 4,
   "metadata": {},
   "outputs": [],
   "source": [
    "\n",
    "for img_path in img_list:\n",
    "    img = cv2.imread(img_path)\n",
    "\n",
    "    augmented = transform(image=img)\n",
    "    augmented_img = augmented[\"image\"]\n",
    "\n",
    "    \n",
    "    filename = os.path.basename(img_path)\n",
    "    save_path = os.path.join('C:/Users/USER/Desktop/hf_cap/valid/augmented', filename)\n",
    "    cv2.imwrite(save_path, augmented_img)\n",
    "  \n",
    "    \n"
   ]
  }
 ],
 "metadata": {
  "kernelspec": {
   "display_name": "fla",
   "language": "python",
   "name": "python3"
  },
  "language_info": {
   "codemirror_mode": {
    "name": "ipython",
    "version": 3
   },
   "file_extension": ".py",
   "mimetype": "text/x-python",
   "name": "python",
   "nbconvert_exporter": "python",
   "pygments_lexer": "ipython3",
   "version": "3.9.18"
  }
 },
 "nbformat": 4,
 "nbformat_minor": 2
}
